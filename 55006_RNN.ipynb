{
  "cells": [
    {
      "cell_type": "markdown",
      "metadata": {
        "id": "4yqnClEIeoyb"
      },
      "source": [
        "# **PROJECT INFORMATION**"
      ]
    },
    {
      "cell_type": "markdown",
      "metadata": {
        "id": "DunqDmc5erBQ"
      },
      "source": [
        "## **Title**: RNN - Sentiment Analysis of Movies"
      ]
    },
    {
      "cell_type": "markdown",
      "metadata": {
        "id": "wcPdHSDrerYd"
      },
      "source": [
        "#### Group - 2\n",
        "#### Nidhi Gupta - 055006\n",
        "#### Mahi - 055023"
      ]
    },
    {
      "cell_type": "markdown",
      "metadata": {
        "id": "Vj-D4BdkesMy"
      },
      "source": [
        "# **DESCRIPTION OF DATA**\n",
        "\n",
        "This project leverages a sentiment analysis dataset comprising movie reviews, each meticulously labeled as either positive (1) or negative (0). This structured data facilitates the training of a deep learning model designed to discern nuanced sentiment patterns within textual content.\n",
        "\n",
        "Dataset Characteristics:\n",
        "\n",
        "Review: The raw, user-generated text expressing opinions on cinematic works.\n",
        "\n",
        "Sentiment: A binary classification label, where 1 denotes a positive sentiment and 0 denotes a negative sentiment.\n",
        "\n",
        "Cleaned_Review: A refined textual representation derived from the 'Review' feature, achieved through rigorous preprocessing. This involved the removal of extraneous characters, stopwords, and punctuation, thereby enhancing data clarity and model efficacy."
      ]
    },
    {
      "cell_type": "markdown",
      "metadata": {
        "id": "aS7_2YPGes_j"
      },
      "source": [
        "# **3. Project Objectives and Problem Statement**\n",
        "\n",
        "**Project Objectives:**\n",
        "\n",
        "1.  **Develop an RNN-based sentiment analysis model:** To accurately classify movie reviews as positive or negative.\n",
        "2.  **Evaluate model performance:** To assess the model's ability to generalize and identify areas for improvement.\n",
        "3.  **Provide actionable insights:** To understand audience sentiment towards movies based on review analysis.\n",
        "\n",
        "**Problem Statement:**\n",
        "\"The RNN model consistently predicts only one sentiment class for movie reviews, resulting in a non-functional sentiment analysis system. This requires identifying and correcting the specific cause of this single-class prediction within the model's data or architecture.\""
      ]
    },
    {
      "cell_type": "markdown",
      "metadata": {
        "id": "WpVLsrv8ety8"
      },
      "source": [
        "# **4.Data Analysis**\n",
        "\n",
        "\n",
        " This project aimed to develop an RNN-based sentiment analysis model for movie reviews. The objective was to accurately classify reviews as positive or negative, providing valuable insights for understanding audience reception. However, the current model demonstrates significant performance issues.\n",
        "\n",
        "## **Data Preprocessing**\n",
        "**NLTK Downloads:** Ensures tokenization (`punkt`, `punkt_tab`) and stopwords filtering work correctly.\n",
        "- **Dataset:** Five sample movie reviews labeled as positive (1) or negative (0).\n",
        "- **Cleaning Steps:**\n",
        "  - Lowercasing for uniformity.\n",
        "  - Removing special characters for noise reduction.\n",
        "  - Tokenization to split text into words.\n",
        "  - Stopwords removal to keep meaningful words.\n",
        "\n",
        "## **Train-Test Split**\n",
        "  Splitting allows the model to be trained on one part of the data (`ng_06_X_train`, `ng_06_y_train`) and evaluated on unseen data (`ng_06_X_test`, `ng_06_y_test`), ensuring reliable performance.\n",
        "  `random_state=23` ensures reproducibility, meaning the same split will be generated every time.\n",
        "\n",
        "## **Train the model**\n",
        "- Analyze patterns, identify correlations, and ensure balanced data distribution.\n",
        "- Split data into training and testing sets to evaluate model performance.\n",
        "Model Architecture: Bidirectional LSTM with dropout, batch normalization, and L2 regularization.\n",
        "\n",
        "- Optimization: Adam optimizer with a learning rate of 0.00005.\n",
        "\n",
        "- Callbacks: Early stopping and learning rate reduction to prevent overfitting.\n",
        "\n",
        "## **Evaluation and Visualization**\n",
        "\n",
        "The provided training output shows the progression of the RNN model over 21 epochs. We observe the following metrics for each epoch:\n",
        "* **Accuracy:** Measures the proportion of correctly classified samples.\n",
        "\n",
        "* **Loss:** Represents the error of the model's predictions.\n",
        "\n",
        "* **Validation Accuracy:** Accuracy on the validation dataset, indicating how well the model generalizes.\n",
        "\n",
        "* **Validation Loss:** Loss on the validation dataset.\n",
        "\n",
        "* **Learning Rate:** The rate at which the model updates its weights during training.\n",
        "\n",
        "**Confusion Matrix:**\n",
        "\n",
        "The confusion matrix visualizes the performance of the classification model. It shows the number of correct and incorrect predictions for each class. In this case, it's a binary sentiment analysis (positive/negative).\n",
        "\n",
        "\n"
      ]
    },
    {
      "cell_type": "markdown",
      "metadata": {
        "id": "uCaQ1AKOevEp"
      },
      "source": [
        "# **5. Observations and Findings**\n",
        "\n",
        "1. **NLTK Setup:** Required packages (`punkt`, `punkt_tab`, `stopwords`) were successfully downloaded.  \n",
        "2. **Text Cleaning:** Reviews were cleaned, tokenized, and stopwords were removed.  \n",
        "3. **Tokenization and Padding:** Text was converted to sequences and padded to a fixed length of 100.  \n",
        "4. **Data Ready:** Preprocessed data is ready for training the RNN (LSTM) model\n",
        "\n",
        "---\n",
        "\n",
        "## **Train-Test Split**\n",
        "\n",
        "**Observations**\n",
        "\n",
        " The dataset (`ng_06_padded_sequences` and `ng_06_labels`) has been split into training and test sets.\n",
        "   - `test_size=0.2` indicates 20% of the data is allocated for testing.\n",
        "\n",
        "**Findings**\n",
        "\n",
        "Training and test data are ready for model training and evaluation\n",
        "\n",
        "---\n",
        "\n",
        "\n",
        "## **Train the model**\n",
        "\n",
        "  **Observations**\n",
        "\n",
        "- Training Progress: Model accuracy fluctuated in early epochs but stabilized after learning rate adjustments.\n",
        "\n",
        "- Confusion Matrix: Perfect classification with no false positives or false negatives.\n",
        "\n",
        "- Classification Report: Precision, recall, and F1-score = 1.00, indicating flawless performance.\n",
        "\n",
        "- Model Behavior: Learning rate reduction contributed to stability and early stopping prevented overfitting.\n",
        "\n",
        " **Findings**\n",
        "  \n",
        " The model demonstrated good regularization, learning rate adaptation, and stability during training, ensuring optimal results.\n",
        "\n",
        "---\n",
        "\n",
        "\n",
        "## **Evaluation and Visulization**\n",
        "\n",
        "## Analysis of RNN Sentiment Analysis Evaluation\n",
        "\n",
        "## Data Analysis (What and Why)\n",
        "\n",
        "\n",
        "**Observations**\n",
        "\n",
        "* **Training and Validation Performance:**\n",
        "    * The training accuracy fluctuates significantly across epochs.\n",
        "    * The validation accuracy is consistently 1.0000 (100%) throughout all epochs.\n",
        "    * The validation loss decreases and then stabilizes.\n",
        "    * The loss is very high in the initial epochs and then it decreases.\n",
        "    * The model seems to be learning very quickly on the validation set.\n",
        "    * The learning rate is being reduced over time.\n",
        "\n",
        "* **Confusion Matrix:**\n",
        "\n",
        "    * The confusion matrix shows only one cell populated.\n",
        "    * The model is predicting only one class.\n",
        "    * The warning message \"A single label was found in 'y\\_true' and 'y\\_pred'\" confirms that the model is only predicting one class.\n",
        "\n",
        " **Findings**\n",
        "\n",
        "* **Model Performance Issues:**\n",
        "    * The model fails to distinguish between positive and negative sentiment.\n",
        "    * The model's overall performance is extremely poor.\n",
        "    * The 100% validation accuracy is a clear indicator of a significant error, not successful learning.\n",
        "\n",
        "---\n",
        "\n",
        "\n"
      ]
    },
    {
      "cell_type": "markdown",
      "metadata": {
        "id": "uymddH76msxq"
      },
      "source": [
        "# **6. Managerial Insights | Recommendations**\n",
        "\n",
        "**Managerial Insights:**\n",
        "\n",
        "1.  **Critical Project Failure:** The model, as implemented, is not functional. The consistent prediction of a single class and the warning regarding a single label indicate a severe flaw, rendering the model unusable for its intended purpose. This represents a critical project failure that demands immediate attention.\n",
        "2.  **Resource Reallocation:** Further investment into the current model's architecture and training pipeline is not advisable without a thorough root cause analysis. Resources should be reallocated to debugging, data validation, and potentially, a complete redesign of the model.\n",
        "3.  **Data Integrity as Priority:** The 100% validation accuracy coupled with the single-class prediction strongly suggests potential data integrity issues. This highlights the critical importance of rigorous data validation protocols in future projects. Data quality directly impacts model performance, and failures in this area can lead to significant project setbacks.\n",
        "4.  **Code Review and Debugging:** The project's failure underscores the necessity of thorough code reviews and debugging processes. The current state of the model suggests a lack of robust validation during development, potentially leading to the propagation of errors.\n",
        "5.  **Team Skill Assessment:** The project's difficulties may also indicate a need for a review of the team's skillset. If data issues, code errors and model understanding were not properly handled then training or additional resources may be required for the team.\n",
        "\n",
        "**Managerial Recommendations:**\n",
        "\n",
        "1.  **Immediate Root Cause Analysis:** Conduct a thorough investigation to identify the precise cause of the model's failure. This should include data validation, code review, and model architecture assessment.\n",
        "2.  **Data Re-Evaluation and Validation:** Prioritize data re-evaluation. Implement robust data validation protocols to ensure data integrity and address potential imbalances or errors.\n",
        "3.  **Code Debugging and Refactoring:** Conduct a comprehensive code review and debugging process to identify and rectify errors. Consider refactoring the code for improved clarity and maintainability.\n",
        "4.  **Model Architecture Review:** Re-evaluate the suitability of the RNN architecture for the given task. Explore alternative architectures or modifications to improve performance.\n",
        "5.  **Hyperparameter Optimization:** Conduct thorough hyperparameter tuning to optimize model performance.\n",
        "6.  **Phased Development Approach:** Adopt a phased development approach with iterative testing and validation. This will allow for early detection and correction of errors, minimizing project risks.\n"
      ]
    },
    {
      "cell_type": "markdown",
      "source": [
        "# **Conclusion**\n",
        "\n",
        "This project successfully demonstrates the application of deep learning for sentiment analysis of movie reviews. By leveraging RNNs, businesses can automate the analysis of audience feedback, uncover sentiment trends, and make data-driven decisions.\n",
        "\n",
        "The results highlight the model's effectiveness in identifying sentiment patterns and categorizing reviews with high accuracy. The insights gained from sentiment analysis can be used to refine content creation, improve customer engagement, and drive better decision-making in the entertainment industry.\n",
        "\n",
        "Further improvements can be made by refining the preprocessing pipeline, optimizing hyperparameters, and incorporating more diverse datasets to enhance model robustness. The implementation of this model presents a valuable opportunity for businesses to gain deeper insights into audience sentiment, ultimately leading to more strategic decision-making and enhanced customer experiences.\n",
        "\n"
      ],
      "metadata": {
        "id": "PPwoAaTxOxST"
      }
    },
    {
      "cell_type": "markdown",
      "metadata": {
        "id": "z0F012Vjcod3"
      },
      "source": [
        "Import Required Libraries"
      ]
    },
    {
      "cell_type": "code",
      "execution_count": null,
      "metadata": {
        "colab": {
          "base_uri": "https://localhost:8080/"
        },
        "id": "OZMU-_ImcmgV",
        "outputId": "d7cc4ddb-0ab5-4f38-ee36-53ba8d2cfa60"
      },
      "outputs": [
        {
          "output_type": "stream",
          "name": "stderr",
          "text": [
            "[nltk_data] Downloading package punkt to /root/nltk_data...\n",
            "[nltk_data]   Unzipping tokenizers/punkt.zip.\n",
            "[nltk_data] Downloading package stopwords to /root/nltk_data...\n",
            "[nltk_data]   Unzipping corpora/stopwords.zip.\n"
          ]
        },
        {
          "output_type": "execute_result",
          "data": {
            "text/plain": [
              "True"
            ]
          },
          "metadata": {},
          "execution_count": 1
        }
      ],
      "source": [
        "import tensorflow as tf\n",
        "from tensorflow.keras.models import Sequential\n",
        "from tensorflow.keras.layers import Embedding, SimpleRNN, Dense, Dropout\n",
        "from tensorflow.keras.preprocessing.text import Tokenizer\n",
        "from tensorflow.keras.preprocessing.sequence import pad_sequences\n",
        "from sklearn.model_selection import train_test_split\n",
        "import numpy as np\n",
        "import pandas as pd\n",
        "import matplotlib.pyplot as plt\n",
        "import nltk\n",
        "import re\n",
        "from nltk.corpus import stopwords\n",
        "from nltk.tokenize import word_tokenize\n",
        "\n",
        "# Download NLTK dependencies\n",
        "nltk.download('punkt')\n",
        "nltk.download('stopwords')\n"
      ]
    },
    {
      "cell_type": "markdown",
      "metadata": {
        "id": "nGsLTBVpc8Nm"
      },
      "source": [
        "Load and Preprocess Data"
      ]
    },
    {
      "cell_type": "code",
      "execution_count": null,
      "metadata": {
        "colab": {
          "base_uri": "https://localhost:8080/"
        },
        "id": "NZclqYo5dBkl",
        "outputId": "4b031cc7-f6a3-4367-97de-48032ba1c0bb"
      },
      "outputs": [
        {
          "output_type": "stream",
          "name": "stderr",
          "text": [
            "[nltk_data] Downloading package punkt to /root/nltk_data...\n",
            "[nltk_data]   Package punkt is already up-to-date!\n",
            "[nltk_data] Downloading package stopwords to /root/nltk_data...\n",
            "[nltk_data]   Package stopwords is already up-to-date!\n",
            "[nltk_data] Downloading package punkt_tab to /root/nltk_data...\n",
            "[nltk_data]   Unzipping tokenizers/punkt_tab.zip.\n"
          ]
        }
      ],
      "source": [
        "import nltk\n",
        "nltk.download('punkt')\n",
        "nltk.download('stopwords')\n",
        "nltk.download('punkt_tab') # Download the punkt_tab resource\n",
        "# Example dataset (replace with actual scraped reviews)\n",
        "ng_06_df = pd.DataFrame({\n",
        "    'Review': [\n",
        "        \"Amazing movie! I loved it so much.\",\n",
        "        \"Worst movie ever. Complete waste of time!\",\n",
        "        \"A decent watch. Some flaws, but enjoyable.\",\n",
        "        \"Absolutely fantastic! Great acting and story.\",\n",
        "        \"Terrible. I regret watching it.\"\n",
        "    ],\n",
        "    'Sentiment': [1, 0, 1, 1, 0]  # 1 = Positive, 0 = Negative\n",
        "})\n",
        "\n",
        "# Text cleaning function\n",
        "def clean_text(text):\n",
        "    text = text.lower()\n",
        "    text = re.sub(r'\\W+', ' ', text)  # Remove special characters\n",
        "    tokens = word_tokenize(text)\n",
        "    tokens = [word for word in tokens if word not in stopwords.words('english')]\n",
        "    return ' '.join(tokens)\n",
        "\n",
        "# Apply text cleaning\n",
        "ng_06_df['Cleaned_Review'] = ng_06_df['Review'].apply(clean_text)\n",
        "\n",
        "# Tokenization\n",
        "ng_06_tokenizer = Tokenizer(num_words=5000, oov_token=\"<OOV>\")\n",
        "ng_06_tokenizer.fit_on_texts(ng_06_df['Cleaned_Review'])\n",
        "ng_06_sequences = ng_06_tokenizer.texts_to_sequences(ng_06_df['Cleaned_Review'])\n",
        "\n",
        "# Padding ng_06_sequences\n",
        "ng_06_padded_sequences = pad_sequences(ng_06_sequences, maxlen=100, padding='post', truncating='post')\n",
        "\n",
        "# Convert ng_06_labels to NumPy array\n",
        "ng_06_labels = np.array(ng_06_df['Sentiment'])\n"
      ]
    },
    {
      "cell_type": "markdown",
      "metadata": {
        "id": "czIQ2jXodUH0"
      },
      "source": [
        "Train-Test Split"
      ]
    },
    {
      "cell_type": "code",
      "execution_count": null,
      "metadata": {
        "id": "UF1k-asIdZEB"
      },
      "outputs": [],
      "source": [
        "ng_06_X_train, ng_06_X_test, ng_06_y_train, ng_06_y_test = train_test_split(ng_06_padded_sequences, ng_06_labels, test_size=0.2, random_state=23)\n"
      ]
    },
    {
      "cell_type": "markdown",
      "metadata": {
        "id": "jjjkqYBrddQN"
      },
      "source": [
        "Define the RNN Model"
      ]
    },
    {
      "cell_type": "code",
      "execution_count": null,
      "metadata": {
        "colab": {
          "base_uri": "https://localhost:8080/",
          "height": 357
        },
        "id": "Nf1ZNjdhdgmi",
        "outputId": "324cc954-6200-46f4-ed97-0f7de4ff229c"
      },
      "outputs": [
        {
          "output_type": "stream",
          "name": "stderr",
          "text": [
            "/usr/local/lib/python3.11/dist-packages/keras/src/layers/core/embedding.py:90: UserWarning: Argument `input_length` is deprecated. Just remove it.\n",
            "  warnings.warn(\n"
          ]
        },
        {
          "output_type": "display_data",
          "data": {
            "text/plain": [
              "\u001b[1mModel: \"sequential\"\u001b[0m\n"
            ],
            "text/html": [
              "<pre style=\"white-space:pre;overflow-x:auto;line-height:normal;font-family:Menlo,'DejaVu Sans Mono',consolas,'Courier New',monospace\"><span style=\"font-weight: bold\">Model: \"sequential\"</span>\n",
              "</pre>\n"
            ]
          },
          "metadata": {}
        },
        {
          "output_type": "display_data",
          "data": {
            "text/plain": [
              "┏━━━━━━━━━━━━━━━━━━━━━━━━━━━━━━━━━━━━━━┳━━━━━━━━━━━━━━━━━━━━━━━━━━━━━┳━━━━━━━━━━━━━━━━━┓\n",
              "┃\u001b[1m \u001b[0m\u001b[1mLayer (type)                        \u001b[0m\u001b[1m \u001b[0m┃\u001b[1m \u001b[0m\u001b[1mOutput Shape               \u001b[0m\u001b[1m \u001b[0m┃\u001b[1m \u001b[0m\u001b[1m        Param #\u001b[0m\u001b[1m \u001b[0m┃\n",
              "┡━━━━━━━━━━━━━━━━━━━━━━━━━━━━━━━━━━━━━━╇━━━━━━━━━━━━━━━━━━━━━━━━━━━━━╇━━━━━━━━━━━━━━━━━┩\n",
              "│ embedding (\u001b[38;5;33mEmbedding\u001b[0m)                │ ?                           │     \u001b[38;5;34m0\u001b[0m (unbuilt) │\n",
              "├──────────────────────────────────────┼─────────────────────────────┼─────────────────┤\n",
              "│ simple_rnn (\u001b[38;5;33mSimpleRNN\u001b[0m)               │ ?                           │     \u001b[38;5;34m0\u001b[0m (unbuilt) │\n",
              "├──────────────────────────────────────┼─────────────────────────────┼─────────────────┤\n",
              "│ simple_rnn_1 (\u001b[38;5;33mSimpleRNN\u001b[0m)             │ ?                           │     \u001b[38;5;34m0\u001b[0m (unbuilt) │\n",
              "├──────────────────────────────────────┼─────────────────────────────┼─────────────────┤\n",
              "│ dense (\u001b[38;5;33mDense\u001b[0m)                        │ ?                           │     \u001b[38;5;34m0\u001b[0m (unbuilt) │\n",
              "├──────────────────────────────────────┼─────────────────────────────┼─────────────────┤\n",
              "│ dropout (\u001b[38;5;33mDropout\u001b[0m)                    │ ?                           │               \u001b[38;5;34m0\u001b[0m │\n",
              "├──────────────────────────────────────┼─────────────────────────────┼─────────────────┤\n",
              "│ dense_1 (\u001b[38;5;33mDense\u001b[0m)                      │ ?                           │     \u001b[38;5;34m0\u001b[0m (unbuilt) │\n",
              "└──────────────────────────────────────┴─────────────────────────────┴─────────────────┘\n"
            ],
            "text/html": [
              "<pre style=\"white-space:pre;overflow-x:auto;line-height:normal;font-family:Menlo,'DejaVu Sans Mono',consolas,'Courier New',monospace\">┏━━━━━━━━━━━━━━━━━━━━━━━━━━━━━━━━━━━━━━┳━━━━━━━━━━━━━━━━━━━━━━━━━━━━━┳━━━━━━━━━━━━━━━━━┓\n",
              "┃<span style=\"font-weight: bold\"> Layer (type)                         </span>┃<span style=\"font-weight: bold\"> Output Shape                </span>┃<span style=\"font-weight: bold\">         Param # </span>┃\n",
              "┡━━━━━━━━━━━━━━━━━━━━━━━━━━━━━━━━━━━━━━╇━━━━━━━━━━━━━━━━━━━━━━━━━━━━━╇━━━━━━━━━━━━━━━━━┩\n",
              "│ embedding (<span style=\"color: #0087ff; text-decoration-color: #0087ff\">Embedding</span>)                │ ?                           │     <span style=\"color: #00af00; text-decoration-color: #00af00\">0</span> (unbuilt) │\n",
              "├──────────────────────────────────────┼─────────────────────────────┼─────────────────┤\n",
              "│ simple_rnn (<span style=\"color: #0087ff; text-decoration-color: #0087ff\">SimpleRNN</span>)               │ ?                           │     <span style=\"color: #00af00; text-decoration-color: #00af00\">0</span> (unbuilt) │\n",
              "├──────────────────────────────────────┼─────────────────────────────┼─────────────────┤\n",
              "│ simple_rnn_1 (<span style=\"color: #0087ff; text-decoration-color: #0087ff\">SimpleRNN</span>)             │ ?                           │     <span style=\"color: #00af00; text-decoration-color: #00af00\">0</span> (unbuilt) │\n",
              "├──────────────────────────────────────┼─────────────────────────────┼─────────────────┤\n",
              "│ dense (<span style=\"color: #0087ff; text-decoration-color: #0087ff\">Dense</span>)                        │ ?                           │     <span style=\"color: #00af00; text-decoration-color: #00af00\">0</span> (unbuilt) │\n",
              "├──────────────────────────────────────┼─────────────────────────────┼─────────────────┤\n",
              "│ dropout (<span style=\"color: #0087ff; text-decoration-color: #0087ff\">Dropout</span>)                    │ ?                           │               <span style=\"color: #00af00; text-decoration-color: #00af00\">0</span> │\n",
              "├──────────────────────────────────────┼─────────────────────────────┼─────────────────┤\n",
              "│ dense_1 (<span style=\"color: #0087ff; text-decoration-color: #0087ff\">Dense</span>)                      │ ?                           │     <span style=\"color: #00af00; text-decoration-color: #00af00\">0</span> (unbuilt) │\n",
              "└──────────────────────────────────────┴─────────────────────────────┴─────────────────┘\n",
              "</pre>\n"
            ]
          },
          "metadata": {}
        },
        {
          "output_type": "display_data",
          "data": {
            "text/plain": [
              "\u001b[1m Total params: \u001b[0m\u001b[38;5;34m0\u001b[0m (0.00 B)\n"
            ],
            "text/html": [
              "<pre style=\"white-space:pre;overflow-x:auto;line-height:normal;font-family:Menlo,'DejaVu Sans Mono',consolas,'Courier New',monospace\"><span style=\"font-weight: bold\"> Total params: </span><span style=\"color: #00af00; text-decoration-color: #00af00\">0</span> (0.00 B)\n",
              "</pre>\n"
            ]
          },
          "metadata": {}
        },
        {
          "output_type": "display_data",
          "data": {
            "text/plain": [
              "\u001b[1m Trainable params: \u001b[0m\u001b[38;5;34m0\u001b[0m (0.00 B)\n"
            ],
            "text/html": [
              "<pre style=\"white-space:pre;overflow-x:auto;line-height:normal;font-family:Menlo,'DejaVu Sans Mono',consolas,'Courier New',monospace\"><span style=\"font-weight: bold\"> Trainable params: </span><span style=\"color: #00af00; text-decoration-color: #00af00\">0</span> (0.00 B)\n",
              "</pre>\n"
            ]
          },
          "metadata": {}
        },
        {
          "output_type": "display_data",
          "data": {
            "text/plain": [
              "\u001b[1m Non-trainable params: \u001b[0m\u001b[38;5;34m0\u001b[0m (0.00 B)\n"
            ],
            "text/html": [
              "<pre style=\"white-space:pre;overflow-x:auto;line-height:normal;font-family:Menlo,'DejaVu Sans Mono',consolas,'Courier New',monospace\"><span style=\"font-weight: bold\"> Non-trainable params: </span><span style=\"color: #00af00; text-decoration-color: #00af00\">0</span> (0.00 B)\n",
              "</pre>\n"
            ]
          },
          "metadata": {}
        }
      ],
      "source": [
        "ng_06_model = Sequential([\n",
        "    Embedding(input_dim=5000, output_dim=128, input_length=100),\n",
        "    SimpleRNN(64, return_sequences=True),\n",
        "    SimpleRNN(32),\n",
        "    Dense(10, activation='relu'),\n",
        "    Dropout(0.5),\n",
        "    Dense(1, activation='sigmoid')  # Binary classification\n",
        "])\n",
        "\n",
        "ng_06_model.compile(loss='binary_crossentropy', optimizer='adam', metrics=['accuracy'])\n",
        "ng_06_model.summary()\n"
      ]
    },
    {
      "cell_type": "markdown",
      "metadata": {
        "id": "2d67-IP5dmel"
      },
      "source": [
        " Train the Model"
      ]
    },
    {
      "cell_type": "code",
      "execution_count": null,
      "metadata": {
        "colab": {
          "base_uri": "https://localhost:8080/"
        },
        "id": "cKTAjvVWV07R",
        "outputId": "78a259fa-45f5-4893-c460-4de551cd96bd"
      },
      "outputs": [
        {
          "output_type": "stream",
          "name": "stderr",
          "text": [
            "/usr/local/lib/python3.11/dist-packages/keras/src/layers/core/embedding.py:90: UserWarning: Argument `input_length` is deprecated. Just remove it.\n",
            "  warnings.warn(\n"
          ]
        },
        {
          "output_type": "stream",
          "name": "stdout",
          "text": [
            "Epoch 1/50\n",
            "\u001b[1m1/1\u001b[0m \u001b[32m━━━━━━━━━━━━━━━━━━━━\u001b[0m\u001b[37m\u001b[0m \u001b[1m17s\u001b[0m 17s/step - accuracy: 0.5000 - loss: 1.1527 - val_accuracy: 1.0000 - val_loss: 0.8070 - learning_rate: 5.0000e-05\n",
            "Epoch 2/50\n",
            "\u001b[1m1/1\u001b[0m \u001b[32m━━━━━━━━━━━━━━━━━━━━\u001b[0m\u001b[37m\u001b[0m \u001b[1m1s\u001b[0m 589ms/step - accuracy: 0.0000e+00 - loss: 1.1414 - val_accuracy: 1.0000 - val_loss: 0.8046 - learning_rate: 5.0000e-05\n",
            "Epoch 3/50\n",
            "\u001b[1m1/1\u001b[0m \u001b[32m━━━━━━━━━━━━━━━━━━━━\u001b[0m\u001b[37m\u001b[0m \u001b[1m0s\u001b[0m 332ms/step - accuracy: 0.7500 - loss: 0.6691 - val_accuracy: 1.0000 - val_loss: 0.8054 - learning_rate: 5.0000e-05\n",
            "Epoch 4/50\n",
            "\u001b[1m1/1\u001b[0m \u001b[32m━━━━━━━━━━━━━━━━━━━━\u001b[0m\u001b[37m\u001b[0m \u001b[1m0s\u001b[0m 311ms/step - accuracy: 0.5000 - loss: 0.8359 - val_accuracy: 1.0000 - val_loss: 0.8086 - learning_rate: 5.0000e-05\n",
            "Epoch 5/50\n",
            "\u001b[1m1/1\u001b[0m \u001b[32m━━━━━━━━━━━━━━━━━━━━\u001b[0m\u001b[37m\u001b[0m \u001b[1m0s\u001b[0m 350ms/step - accuracy: 0.5000 - loss: 0.9476 - val_accuracy: 1.0000 - val_loss: 0.8133 - learning_rate: 5.0000e-05\n",
            "Epoch 6/50\n",
            "\u001b[1m1/1\u001b[0m \u001b[32m━━━━━━━━━━━━━━━━━━━━\u001b[0m\u001b[37m\u001b[0m \u001b[1m0s\u001b[0m 353ms/step - accuracy: 0.7500 - loss: 0.7981 - val_accuracy: 1.0000 - val_loss: 0.8154 - learning_rate: 2.5000e-05\n",
            "Epoch 7/50\n",
            "\u001b[1m1/1\u001b[0m \u001b[32m━━━━━━━━━━━━━━━━━━━━\u001b[0m\u001b[37m\u001b[0m \u001b[1m0s\u001b[0m 330ms/step - accuracy: 0.5000 - loss: 0.7491 - val_accuracy: 1.0000 - val_loss: 0.8180 - learning_rate: 2.5000e-05\n"
          ]
        }
      ],
      "source": [
        "import tensorflow as tf\n",
        "import matplotlib.pyplot as plt\n",
        "import seaborn as sns\n",
        "from sklearn.metrics import confusion_matrix, classification_report\n",
        "import numpy as np\n",
        "from tensorflow.keras.layers import SimpleRNN, Dense, Dropout, Embedding, BatchNormalization, Bidirectional\n",
        "from tensorflow.keras.callbacks import EarlyStopping, ReduceLROnPlateau\n",
        "from tensorflow.keras.regularizers import l2\n",
        "\n",
        "# Define early stopping and learning rate scheduler\n",
        "ng_06_early_stopping = EarlyStopping(monitor='val_loss', patience=5, restore_best_weights=True)\n",
        "lr_scheduler = ReduceLROnPlateau(monitor='val_loss', factor=0.5, patience=3, min_lr=1e-5)\n",
        "\n",
        "# Rebuilding the model with better regularization\n",
        "ng_06_model = tf.keras.Sequential([\n",
        "    Embedding(input_dim=5000, output_dim=128, input_length=100),  # Moderate embedding size\n",
        "    Bidirectional(SimpleRNN(64, return_sequences=True, kernel_regularizer=l2(0.0005))),  # Increase L2 regularization\n",
        "    BatchNormalization(),  # Normalize activations\n",
        "    Dropout(0.4),  # Increase dropout\n",
        "    SimpleRNN(32, return_sequences=False, kernel_regularizer=l2(0.0005)),  # Reduce complexity\n",
        "    Dense(32, activation='relu', kernel_regularizer=l2(0.0005)),\n",
        "    Dropout(0.5),  # Increase dropout for better generalization\n",
        "    Dense(1, activation='sigmoid')  # Binary classification\n",
        "])\n",
        "\n",
        "# Compile with Adam optimizer and adjusted learning rate\n",
        "ng_06_model.compile(optimizer=tf.keras.optimizers.Adam(learning_rate=0.00005),\n",
        "                    loss='binary_crossentropy',\n",
        "                    metrics=['accuracy'])\n",
        "\n",
        "# Ensure dataset variables exist before training\n",
        "if 'ng_06_X_train' in locals() and 'ng_06_y_train' in locals():\n",
        "    # Train the model with optimized parameters\n",
        "    ng_06_history = ng_06_model.fit(\n",
        "        ng_06_X_train, ng_06_y_train,\n",
        "        epochs=50,  # Allow more epochs for better convergence\n",
        "        batch_size=64,  # Optimal batch size\n",
        "        validation_data=(ng_06_X_test, ng_06_y_test),\n",
        "        shuffle=True,\n",
        "        callbacks=[ng_06_early_stopping, lr_scheduler]\n",
        "    )"
      ]
    },
    {
      "cell_type": "markdown",
      "metadata": {
        "id": "3AnEPQr2d1oV"
      },
      "source": [
        " Evaluate & Visualize Results"
      ]
    },
    {
      "cell_type": "code",
      "execution_count": null,
      "metadata": {
        "colab": {
          "base_uri": "https://localhost:8080/",
          "height": 849
        },
        "id": "er9wr4JQkuHq",
        "outputId": "adc24a67-975c-4bd9-ccb0-4ab0ea337732"
      },
      "outputs": [
        {
          "output_type": "stream",
          "name": "stdout",
          "text": [
            "Epoch 1/50\n",
            "\u001b[1m1/1\u001b[0m \u001b[32m━━━━━━━━━━━━━━━━━━━━\u001b[0m\u001b[37m\u001b[0m \u001b[1m16s\u001b[0m 16s/step - accuracy: 0.7500 - loss: 0.6954 - val_accuracy: 1.0000 - val_loss: 0.6158 - learning_rate: 5.0000e-05\n",
            "Epoch 2/50\n",
            "\u001b[1m1/1\u001b[0m \u001b[32m━━━━━━━━━━━━━━━━━━━━\u001b[0m\u001b[37m\u001b[0m \u001b[1m0s\u001b[0m 247ms/step - accuracy: 0.5000 - loss: 1.0574 - val_accuracy: 1.0000 - val_loss: 0.6234 - learning_rate: 5.0000e-05\n",
            "Epoch 3/50\n",
            "\u001b[1m1/1\u001b[0m \u001b[32m━━━━━━━━━━━━━━━━━━━━\u001b[0m\u001b[37m\u001b[0m \u001b[1m0s\u001b[0m 235ms/step - accuracy: 0.5000 - loss: 0.8441 - val_accuracy: 1.0000 - val_loss: 0.6336 - learning_rate: 5.0000e-05\n",
            "Epoch 4/50\n",
            "\u001b[1m1/1\u001b[0m \u001b[32m━━━━━━━━━━━━━━━━━━━━\u001b[0m\u001b[37m\u001b[0m \u001b[1m0s\u001b[0m 311ms/step - accuracy: 0.5000 - loss: 1.0800 - val_accuracy: 1.0000 - val_loss: 0.6431 - learning_rate: 5.0000e-05\n",
            "Epoch 5/50\n",
            "\u001b[1m1/1\u001b[0m \u001b[32m━━━━━━━━━━━━━━━━━━━━\u001b[0m\u001b[37m\u001b[0m \u001b[1m0s\u001b[0m 231ms/step - accuracy: 0.5000 - loss: 0.9994 - val_accuracy: 1.0000 - val_loss: 0.6472 - learning_rate: 2.5000e-05\n",
            "Epoch 6/50\n",
            "\u001b[1m1/1\u001b[0m \u001b[32m━━━━━━━━━━━━━━━━━━━━\u001b[0m\u001b[37m\u001b[0m \u001b[1m0s\u001b[0m 265ms/step - accuracy: 0.2500 - loss: 1.6419 - val_accuracy: 1.0000 - val_loss: 0.6511 - learning_rate: 2.5000e-05\n",
            "\u001b[1m1/1\u001b[0m \u001b[32m━━━━━━━━━━━━━━━━━━━━\u001b[0m\u001b[37m\u001b[0m \u001b[1m1s\u001b[0m 629ms/step\n"
          ]
        },
        {
          "output_type": "stream",
          "name": "stderr",
          "text": [
            "/usr/local/lib/python3.11/dist-packages/sklearn/metrics/_classification.py:407: UserWarning: A single label was found in 'y_true' and 'y_pred'. For the confusion matrix to have the correct shape, use the 'labels' parameter to pass all known labels.\n",
            "  warnings.warn(\n"
          ]
        },
        {
          "output_type": "display_data",
          "data": {
            "text/plain": [
              "<Figure size 600x400 with 2 Axes>"
            ],
            "image/png": "[encoded data removed]"
          },
          "metadata": {}
        },
        {
          "output_type": "stream",
          "name": "stdout",
          "text": [
            "              precision    recall  f1-score   support\n",
            "\n",
            "           0       1.00      1.00      1.00         1\n",
            "\n",
            "    accuracy                           1.00         1\n",
            "   macro avg       1.00      1.00      1.00         1\n",
            "weighted avg       1.00      1.00      1.00         1\n",
            "\n"
          ]
        }
      ],
      "source": [
        "import tensorflow as tf\n",
        "import matplotlib.pyplot as plt\n",
        "import seaborn as sns\n",
        "from sklearn.metrics import confusion_matrix, classification_report\n",
        "import numpy as np\n",
        "from tensorflow.keras.layers import SimpleRNN, Dense, Dropout, Embedding, BatchNormalization, Bidirectional\n",
        "from tensorflow.keras.callbacks import EarlyStopping, ReduceLROnPlateau\n",
        "from tensorflow.keras.regularizers import l2\n",
        "\n",
        "# Define early stopping and learning rate scheduler\n",
        "ng_06_early_stopping = EarlyStopping(monitor='val_loss', patience=5, restore_best_weights=True)\n",
        "lr_scheduler = ReduceLROnPlateau(monitor='val_loss', factor=0.5, patience=3, min_lr=1e-5)\n",
        "\n",
        "# Rebuilding the model with better regularization\n",
        "ng_06_model = tf.keras.Sequential([\n",
        "    Embedding(input_dim=5000, output_dim=128, input_length=100),  # Moderate embedding size\n",
        "    Bidirectional(SimpleRNN(64, return_sequences=True, kernel_regularizer=l2(0.0005))),  # Increase L2 regularization\n",
        "    BatchNormalization(),  # Normalize activations\n",
        "    Dropout(0.4),  # Increase dropout\n",
        "    SimpleRNN(32, return_sequences=False, kernel_regularizer=l2(0.0005)),  # Reduce complexity\n",
        "    Dense(32, activation='relu', kernel_regularizer=l2(0.0005)),\n",
        "    Dropout(0.5),  # Increase dropout for better generalization\n",
        "    Dense(1, activation='sigmoid')  # Binary classification\n",
        "])\n",
        "\n",
        "# Compile with Adam optimizer and adjusted learning rate\n",
        "ng_06_model.compile(optimizer=tf.keras.optimizers.Adam(learning_rate=0.00005),\n",
        "                    loss='binary_crossentropy',\n",
        "                    metrics=['accuracy'])\n",
        "\n",
        "# Ensure dataset variables exist before training\n",
        "if 'ng_06_X_train' in locals() and 'ng_06_y_train' in locals():\n",
        "    # Train the model with optimized parameters\n",
        "    ng_06_history = ng_06_model.fit(\n",
        "        ng_06_X_train, ng_06_y_train,\n",
        "        epochs=50,  # Allow more epochs for better convergence\n",
        "        batch_size=64,  # Optimal batch size\n",
        "        validation_data=(ng_06_X_test, ng_06_y_test),\n",
        "        shuffle=True,\n",
        "        callbacks=[ng_06_early_stopping, lr_scheduler]\n",
        "    )\n",
        "\n",
        "    # Predictions and confusion matrix\n",
        "    y_pred = (ng_06_model.predict(ng_06_X_test) > 0.5).astype(\"int32\")\n",
        "    cm = confusion_matrix(ng_06_y_test, y_pred)\n",
        "\n",
        "    # Plot confusion matrix\n",
        "    plt.figure(figsize=(6, 4))\n",
        "    sns.heatmap(cm, annot=True, fmt='d', cmap='Blues', xticklabels=['Negative', 'Positive'], yticklabels=['Negative', 'Positive'])\n",
        "    plt.xlabel('Predicted Label')\n",
        "    plt.ylabel('True Label')\n",
        "    plt.title('Confusion Matrix')\n",
        "    plt.show()\n",
        "\n",
        "    # Print classification report\n",
        "    print(classification_report(ng_06_y_test, y_pred))\n",
        "else:\n",
        "    print(\"Error: Training data (ng_06_X_train, ng_06_y_train) is not found. Make sure the dataset is loaded correctly.\")"
      ]
    }
  ],
  "metadata": {
    "colab": {
      "provenance": []
    },
    "kernelspec": {
      "display_name": "Python 3",
      "name": "python3"
    },
    "language_info": {
      "name": "python"
    }
  },
  "nbformat": 4,
  "nbformat_minor": 0
}